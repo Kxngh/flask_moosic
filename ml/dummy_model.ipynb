{
 "cells": [
  {
   "cell_type": "code",
   "execution_count": null,
   "id": "4be12096",
   "metadata": {
    "vscode": {
     "languageId": "plaintext"
    }
   },
   "outputs": [],
   "source": [
    "from PIL import Image, ImageOps\n",
    "import io\n",
    "\n",
    "\n",
    "def pil_from_base64(b64str):\n",
    "    import base64\n",
    "    header, b64 = b64str.split(',', 1) if ',' in b64str else (None, b64str)\n",
    "    data = base64.b64decode(b64)\n",
    "    img = Image.open(io.BytesIO(data)).convert('RGBA')\n",
    "    bg = Image.new('RGBA', img.size, (255,255,255,255))\n",
    "    merged = Image.alpha_composite(bg, img).convert('RGB')\n",
    "    return merged\n",
    "\n",
    "\n",
    "def preprocess_for_model(pil_img, size=(64,64)):\n",
    "    # center-crop/pad to square and resize, return L mode (grayscale)\n",
    "    return ImageOps.fit(pil_img, size).convert('L')"
   ]
  },
  {
   "cell_type": "code",
   "execution_count": null,
   "id": "cedaa8a0",
   "metadata": {
    "vscode": {
     "languageId": "plaintext"
    }
   },
   "outputs": [],
   "source": [
    "# A tiny dummy model that chooses a mood randomly but with simple heuristic for visible pixels.\n",
    "from PIL import ImageStat\n",
    "import random\n",
    "\n",
    "\n",
    "MOODS = ['happy','calm','sad','energetic']\n",
    "\n",
    "\n",
    "class DummyMoodModel:\n",
    "    def __init__(self):\n",
    "        pass\n",
    "\n",
    "    def predict_from_pil(self, pil_img):\n",
    "        \"\"\"Accepts a PIL grayscale image (64x64). Returns (mood, confidence)\"\"\"\n",
    "        # heuristic: mean brightness\n",
    "        stat = ImageStat.Stat(pil_img)\n",
    "        mean = stat.mean[0]\n",
    "        # mean near white -> calm/happy, near black -> energetic/sad randomly\n",
    "        if mean > 220:\n",
    "            mood = random.choice(['calm','happy'])\n",
    "            conf = 0.6 + (mean - 220)/35 * 0.4\n",
    "        elif mean > 120:\n",
    "            mood = random.choice(['happy','energetic'])\n",
    "            conf = 0.5 + (mean - 120)/100 * 0.5\n",
    "        else:\n",
    "            mood = random.choice(['sad','energetic'])\n",
    "            conf = 0.55\n",
    "        return mood, min(max(conf, 0.0), 0.99)"
   ]
  }
 ],
 "metadata": {
  "language_info": {
   "name": "python"
  }
 },
 "nbformat": 4,
 "nbformat_minor": 5
}
